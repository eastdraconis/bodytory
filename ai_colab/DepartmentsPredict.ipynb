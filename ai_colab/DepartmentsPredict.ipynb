{
  "nbformat": 4,
  "nbformat_minor": 0,
  "metadata": {
    "colab": {
      "provenance": []
    },
    "kernelspec": {
      "name": "python3",
      "display_name": "Python 3"
    },
    "language_info": {
      "name": "python"
    }
  },
  "cells": [
    {
      "cell_type": "markdown",
      "source": [
        "# Module Import"
      ],
      "metadata": {
        "id": "UBYRhtMCrokk"
      }
    },
    {
      "cell_type": "code",
      "source": [
        "!pip install konlpy\n",
        "!pip install mxnet\n",
        "!pip install gluonnlp pandas tqdm\n",
        "!pip install sentencepiece\n",
        "!pip install transformers\n",
        "!pip install torch\n",
        "!pip install KRWordRank\n",
        "!pip install soynlp"
      ],
      "metadata": {
        "id": "PXl7x1irrvLC"
      },
      "execution_count": null,
      "outputs": []
    },
    {
      "cell_type": "code",
      "source": [
        "import torch\n",
        "from torch import nn\n",
        "import torch.nn.functional as F\n",
        "import torch.optim as optim\n",
        "from torch.utils.data import Dataset, DataLoader\n",
        "import gluonnlp as nlp\n",
        "import numpy as np\n",
        "import pandas as pd\n",
        "from konlpy.tag import Okt\n",
        "from tqdm import tqdm, tqdm_notebook\n",
        "from transformers import AdamW\n",
        "from transformers.optimization import get_cosine_schedule_with_warmup\n",
        "from collections import Counter\n",
        "from keras.preprocessing.text import Tokenizer\n",
        "from sklearn.model_selection import train_test_split\n",
        "from tensorflow.keras.models import Model, load_model\n",
        "from tensorflow.keras.layers import Input, Embedding, Dense, GRU, Dropout\n",
        "from tensorflow.keras.callbacks import EarlyStopping, ModelCheckpoint\n",
        "import tensorflow.keras.backend as K\n",
        "from gensim.models import Word2Vec\n",
        "import gensim\n",
        "from konlpy.tag import Hannanum\n",
        "from krwordrank.word import KRWordRank\n",
        "from krwordrank.word import summarize_with_keywords\n",
        "from soynlp.tokenizer import LTokenizer"
      ],
      "metadata": {
        "id": "So2ARDgEsCT0"
      },
      "execution_count": null,
      "outputs": []
    },
    {
      "cell_type": "code",
      "source": [
        "device = torch.device(\"cuda:0\")"
      ],
      "metadata": {
        "id": "54fXczGhtM2z"
      },
      "execution_count": null,
      "outputs": []
    },
    {
      "cell_type": "markdown",
      "source": [
        "# Loading Data"
      ],
      "metadata": {
        "id": "pADJ8asxt4xW"
      }
    },
    {
      "cell_type": "code",
      "source": [
        "def dep_list_converter(deplist):\n",
        "  con_list = []\n",
        "  for dep in deplist:\n",
        "    if '내과' in dep:\n",
        "      if '내과' in con_list:\n",
        "        continue\n",
        "      con_list.append('내과')\n",
        "    elif '외과' in dep:\n",
        "      if '외과' in con_list:\n",
        "        continue\n",
        "      con_list.append('외과')\n",
        "    else:\n",
        "      con_list.append(dep)\n",
        "  return con_list\n",
        "\n",
        "def dep_string_converter(depstr):\n",
        "  try:\n",
        "    deplist = depstr.split(',')\n",
        "    con_list = []\n",
        "    for dep in deplist:\n",
        "      if '내과' in dep:\n",
        "        if '내과' in con_list:\n",
        "          continue\n",
        "        con_list.append('내과')\n",
        "      elif '외과' in dep:\n",
        "        if '외과' in con_list:\n",
        "          continue\n",
        "        con_list.append('외과')\n",
        "      else:\n",
        "        con_list.append(dep.lstrip())\n",
        "    return ','.join(con_list)\n",
        "  except:\n",
        "    return None"
      ],
      "metadata": {
        "id": "_PUrSNI8t9Id"
      },
      "execution_count": null,
      "outputs": []
    },
    {
      "cell_type": "code",
      "source": [
        "#데이터셋 가공\n",
        "obj_data = pd.read_csv('/content/drive/MyDrive/Team01_KoBERT/symptom_dataset.csv')\n",
        "# obj_data['department'] = obj_data['department'].apply(lambda x: dep_string_converter(x))\n",
        "obj_data['symptom'] = obj_data['symptom'].str.replace(\"[^ㄱ-ㅎㅏ-ㅣ가-힣 ]\", \"\")\n",
        "obj_data['name'] = obj_data['name'].str.replace(\"[^ㄱ-ㅎㅏ-ㅣ가-힣 ]\", \"\")\n",
        "obj_data['simple_description'] = obj_data['simple_description'].str.replace(\"[^ㄱ-ㅎㅏ-ㅣ가-힣 ]\", \"\")\n",
        "obj_data['symptom'] = obj_data['symptom'] + ' ' + obj_data['simple_symptom'] + ' ' + obj_data['site']\n",
        "obj_result = obj_data['department'].str.replace(' ', '').str.split(',')\n",
        "# obj_result = obj_result.apply(lambda x: dep_list_converter(x))\n",
        "obj_result = obj_result.apply(lambda x: pd.Series(x))\n",
        "obj_result = obj_result.stack().reset_index(level=1, drop=True).to_frame('department_single')\n",
        "obj_result = obj_data.merge(obj_result, left_index=True, right_index=True, how='left')"
      ],
      "metadata": {
        "colab": {
          "base_uri": "https://localhost:8080/"
        },
        "id": "bP-XjkJZutVq",
        "outputId": "1c7f4a6d-1120-4825-8fcf-14134d3d15a5"
      },
      "execution_count": null,
      "outputs": [
        {
          "output_type": "stream",
          "name": "stderr",
          "text": [
            "<ipython-input-423-2a9a59a7d283>:4: FutureWarning: The default value of regex will change from True to False in a future version.\n",
            "  obj_data['symptom'] = obj_data['symptom'].str.replace(\"[^ㄱ-ㅎㅏ-ㅣ가-힣 ]\", \"\")\n",
            "<ipython-input-423-2a9a59a7d283>:5: FutureWarning: The default value of regex will change from True to False in a future version.\n",
            "  obj_data['name'] = obj_data['name'].str.replace(\"[^ㄱ-ㅎㅏ-ㅣ가-힣 ]\", \"\")\n",
            "<ipython-input-423-2a9a59a7d283>:6: FutureWarning: The default value of regex will change from True to False in a future version.\n",
            "  obj_data['simple_description'] = obj_data['simple_description'].str.replace(\"[^ㄱ-ㅎㅏ-ㅣ가-힣 ]\", \"\")\n"
          ]
        }
      ]
    },
    {
      "cell_type": "code",
      "source": [
        "sub_data = pd.read_csv('/content/drive/MyDrive/Team01_KoBERT/symptom_dataset_by_naver.csv')\n",
        "sub_data['department'] = sub_data['department'].fillna('비뇨기과')\n",
        "# sub_data['department'] = sub_data['department'].apply(lambda x: dep_string_converter(x))\n",
        "sub_data['name'] = sub_data['name'].str.replace(\"[^ㄱ-ㅎㅏ-ㅣ가-힣 ]\", \"\")\n",
        "sub_data['symptom'] = sub_data['symptom'].str.replace(\"[^ㄱ-ㅎㅏ-ㅣ가-힣 ]\", \"\")\n",
        "sub_result = sub_data['department'].str.replace(' ', '').str.split(',')\n",
        "# sub_result = sub_result.apply(lambda x: dep_list_converter(x))\n",
        "sub_result = sub_result.apply(lambda x: pd.Series(x))\n",
        "sub_result = sub_result.stack().reset_index(level=1, drop=True).to_frame('department_single')\n",
        "sub_result = sub_data.merge(sub_result, left_index=True, right_index=True, how='left')\n",
        "sub_result['symptom'] = sub_result['symptom'] + ' ' + sub_result['name']\n",
        "sub_result['symptom'] = sub_result['symptom'].str.replace(\"[^ㄱ-ㅎㅏ-ㅣ가-힣 ]\", \"\")"
      ],
      "metadata": {
        "colab": {
          "base_uri": "https://localhost:8080/"
        },
        "id": "TfpzbQ_7uymz",
        "outputId": "b8ff7a78-685a-40f0-d081-37e107d7d4c7"
      },
      "execution_count": null,
      "outputs": [
        {
          "output_type": "stream",
          "name": "stderr",
          "text": [
            "<ipython-input-424-99fac2b99a46>:4: FutureWarning: The default value of regex will change from True to False in a future version.\n",
            "  sub_data['name'] = sub_data['name'].str.replace(\"[^ㄱ-ㅎㅏ-ㅣ가-힣 ]\", \"\")\n",
            "<ipython-input-424-99fac2b99a46>:5: FutureWarning: The default value of regex will change from True to False in a future version.\n",
            "  sub_data['symptom'] = sub_data['symptom'].str.replace(\"[^ㄱ-ㅎㅏ-ㅣ가-힣 ]\", \"\")\n",
            "<ipython-input-424-99fac2b99a46>:12: FutureWarning: The default value of regex will change from True to False in a future version.\n",
            "  sub_result['symptom'] = sub_result['symptom'].str.replace(\"[^ㄱ-ㅎㅏ-ㅣ가-힣 ]\", \"\")\n"
          ]
        }
      ]
    },
    {
      "cell_type": "code",
      "source": [
        "data_result =  pd.concat([obj_result[['symptom', 'department_single']], sub_result[['symptom', 'department_single']]])"
      ],
      "metadata": {
        "id": "sWaOD722u0cv"
      },
      "execution_count": null,
      "outputs": []
    },
    {
      "cell_type": "code",
      "source": [
        "data_result = data_result.dropna()"
      ],
      "metadata": {
        "id": "X6BmYSlyvOz7"
      },
      "execution_count": null,
      "outputs": []
    },
    {
      "cell_type": "code",
      "source": [
        "data_result['department_single'].value_counts()"
      ],
      "metadata": {
        "colab": {
          "base_uri": "https://localhost:8080/"
        },
        "id": "0nC8Yek_zq5J",
        "outputId": "e9659080-b2b9-405b-fa85-5f02914aed19"
      },
      "execution_count": null,
      "outputs": [
        {
          "output_type": "execute_result",
          "data": {
            "text/plain": [
              "소아청소년과      378\n",
              "피부과         182\n",
              "이비인후과       178\n",
              "신경과         177\n",
              "소화기내과       164\n",
              "산부인과        147\n",
              "가정의학과       144\n",
              "정신건강의학과     135\n",
              "감염내과        130\n",
              "정형외과        125\n",
              "신경외과        116\n",
              "외과          115\n",
              "호흡기내과       112\n",
              "혈액종양내과      107\n",
              "안과           90\n",
              "방사선종양학과      76\n",
              "재활의학과        76\n",
              "순환기내과        71\n",
              "흉부외과         67\n",
              "내분비내과        59\n",
              "신장내과         58\n",
              "비뇨기과         58\n",
              "알레르기내과       39\n",
              "응급의학과        37\n",
              "류마티스내과       32\n",
              "성형외과         23\n",
              "치과           23\n",
              "마취통증의학과      19\n",
              "내과           13\n",
              "진단검사의학과       4\n",
              "병리과           2\n",
              "핵의학과          2\n",
              "신종플루거점병원      1\n",
              "이식혈관외과        1\n",
              "Name: department_single, dtype: int64"
            ]
          },
          "metadata": {},
          "execution_count": 427
        }
      ]
    },
    {
      "cell_type": "code",
      "source": [
        "obj_data.head()"
      ],
      "metadata": {
        "colab": {
          "base_uri": "https://localhost:8080/",
          "height": 337
        },
        "id": "ooUTLWshvU-T",
        "outputId": "f09aa61f-70ff-48d5-e351-513b768491cb"
      },
      "execution_count": null,
      "outputs": [
        {
          "output_type": "execute_result",
          "data": {
            "text/plain": [
              "        name                                 simple_description  \\\n",
              "0      간흡충증   기생충인 간흡충이 쓸개즙이 내려오는 통로인 담관에 기생하면서 여러 가지 병을 일으키...   \n",
              "1       감기                    여 종 이상의 바이러스에 의해 발생하는 호흡기계의 감염 증상   \n",
              "2       광견병         광견병 바이러스를 가지고 있는 동물에 사람이 물렸을 때 발생하는 급성 뇌척수염   \n",
              "3       한센병   나균에 의한 감염증으로 나균이 피부 말초 신경계 상부 기도를 침범하여 병적인 변화를...   \n",
              "4  노로 바이러스                        노로 바이러스 감염에 의한 유행성 바이러스성 위장관염   \n",
              "\n",
              "                          department            site  \\\n",
              "0                 감염내과, 소화기내과, 가정의학과           간, 담관   \n",
              "1  가정의학과, 감염내과, 호흡기내과, 소아청소년과, 이비인후과   상부 호흡기계, 코, 목   \n",
              "2                          감염내과, 신경과    중추신경계(뇌, 척수)   \n",
              "3                          감염내과, 피부과  피부, 말초신경계, 상기도   \n",
              "4                감염내과, 소화기내과, 소아청소년과             위장관   \n",
              "\n",
              "                               simple_symptom  \\\n",
              "0                                          설사   \n",
              "1  기침 , 인두통 및 인후통 , 비루 , 비폐색 , 재채기 , 근육통 , 발열   \n",
              "2                     근육간대경련 , 혼수 , 아린감 , 근육통   \n",
              "3  비출혈 , 결절 , 구진 , 무감각증 , 아린감 , 근육통 , 홍반 , 반점   \n",
              "4           근육통 , 구역 , 설사 , 구토 , 복통 , 핍뇨 및 무뇨   \n",
              "\n",
              "                                             symptom  \n",
              "0  담관에 있는 성충이 물리적 화학적 자극을 가하여 이상 증상이 나타난다 증상으로는 배...  \n",
              "1  감기 바이러스에 노출된 지 일 후에 증상이 나타난다 증상은 감기 바이러스가 상부 호...  \n",
              "2  광견병 바이러스에 노출된 후 증상이 나타나는 데 걸리는 시간은 여러 가지 요인에 영...  \n",
              "3  잠복기간은 개월년으로 다양하다 한센병은 피부에 나타나는 병적인 변화의 종류에 따라 ...  \n",
              "4  사람이 노로 바이러스에 감염되면 평균 시간의 잠복기를 거친뒤에 갑자기 오심 구토 설...  "
            ],
            "text/html": [
              "\n",
              "  <div id=\"df-7ffd4e00-086d-4c2c-9751-05acea283d61\">\n",
              "    <div class=\"colab-df-container\">\n",
              "      <div>\n",
              "<style scoped>\n",
              "    .dataframe tbody tr th:only-of-type {\n",
              "        vertical-align: middle;\n",
              "    }\n",
              "\n",
              "    .dataframe tbody tr th {\n",
              "        vertical-align: top;\n",
              "    }\n",
              "\n",
              "    .dataframe thead th {\n",
              "        text-align: right;\n",
              "    }\n",
              "</style>\n",
              "<table border=\"1\" class=\"dataframe\">\n",
              "  <thead>\n",
              "    <tr style=\"text-align: right;\">\n",
              "      <th></th>\n",
              "      <th>name</th>\n",
              "      <th>simple_description</th>\n",
              "      <th>department</th>\n",
              "      <th>site</th>\n",
              "      <th>simple_symptom</th>\n",
              "      <th>symptom</th>\n",
              "    </tr>\n",
              "  </thead>\n",
              "  <tbody>\n",
              "    <tr>\n",
              "      <th>0</th>\n",
              "      <td>간흡충증</td>\n",
              "      <td>기생충인 간흡충이 쓸개즙이 내려오는 통로인 담관에 기생하면서 여러 가지 병을 일으키...</td>\n",
              "      <td>감염내과, 소화기내과, 가정의학과</td>\n",
              "      <td>간, 담관</td>\n",
              "      <td>설사</td>\n",
              "      <td>담관에 있는 성충이 물리적 화학적 자극을 가하여 이상 증상이 나타난다 증상으로는 배...</td>\n",
              "    </tr>\n",
              "    <tr>\n",
              "      <th>1</th>\n",
              "      <td>감기</td>\n",
              "      <td>여 종 이상의 바이러스에 의해 발생하는 호흡기계의 감염 증상</td>\n",
              "      <td>가정의학과, 감염내과, 호흡기내과, 소아청소년과, 이비인후과</td>\n",
              "      <td>상부 호흡기계, 코, 목</td>\n",
              "      <td>기침 , 인두통 및 인후통 , 비루 , 비폐색 , 재채기 , 근육통 , 발열</td>\n",
              "      <td>감기 바이러스에 노출된 지 일 후에 증상이 나타난다 증상은 감기 바이러스가 상부 호...</td>\n",
              "    </tr>\n",
              "    <tr>\n",
              "      <th>2</th>\n",
              "      <td>광견병</td>\n",
              "      <td>광견병 바이러스를 가지고 있는 동물에 사람이 물렸을 때 발생하는 급성 뇌척수염</td>\n",
              "      <td>감염내과, 신경과</td>\n",
              "      <td>중추신경계(뇌, 척수)</td>\n",
              "      <td>근육간대경련 , 혼수 , 아린감 , 근육통</td>\n",
              "      <td>광견병 바이러스에 노출된 후 증상이 나타나는 데 걸리는 시간은 여러 가지 요인에 영...</td>\n",
              "    </tr>\n",
              "    <tr>\n",
              "      <th>3</th>\n",
              "      <td>한센병</td>\n",
              "      <td>나균에 의한 감염증으로 나균이 피부 말초 신경계 상부 기도를 침범하여 병적인 변화를...</td>\n",
              "      <td>감염내과, 피부과</td>\n",
              "      <td>피부, 말초신경계, 상기도</td>\n",
              "      <td>비출혈 , 결절 , 구진 , 무감각증 , 아린감 , 근육통 , 홍반 , 반점</td>\n",
              "      <td>잠복기간은 개월년으로 다양하다 한센병은 피부에 나타나는 병적인 변화의 종류에 따라 ...</td>\n",
              "    </tr>\n",
              "    <tr>\n",
              "      <th>4</th>\n",
              "      <td>노로 바이러스</td>\n",
              "      <td>노로 바이러스 감염에 의한 유행성 바이러스성 위장관염</td>\n",
              "      <td>감염내과, 소화기내과, 소아청소년과</td>\n",
              "      <td>위장관</td>\n",
              "      <td>근육통 , 구역 , 설사 , 구토 , 복통 , 핍뇨 및 무뇨</td>\n",
              "      <td>사람이 노로 바이러스에 감염되면 평균 시간의 잠복기를 거친뒤에 갑자기 오심 구토 설...</td>\n",
              "    </tr>\n",
              "  </tbody>\n",
              "</table>\n",
              "</div>\n",
              "      <button class=\"colab-df-convert\" onclick=\"convertToInteractive('df-7ffd4e00-086d-4c2c-9751-05acea283d61')\"\n",
              "              title=\"Convert this dataframe to an interactive table.\"\n",
              "              style=\"display:none;\">\n",
              "        \n",
              "  <svg xmlns=\"http://www.w3.org/2000/svg\" height=\"24px\"viewBox=\"0 0 24 24\"\n",
              "       width=\"24px\">\n",
              "    <path d=\"M0 0h24v24H0V0z\" fill=\"none\"/>\n",
              "    <path d=\"M18.56 5.44l.94 2.06.94-2.06 2.06-.94-2.06-.94-.94-2.06-.94 2.06-2.06.94zm-11 1L8.5 8.5l.94-2.06 2.06-.94-2.06-.94L8.5 2.5l-.94 2.06-2.06.94zm10 10l.94 2.06.94-2.06 2.06-.94-2.06-.94-.94-2.06-.94 2.06-2.06.94z\"/><path d=\"M17.41 7.96l-1.37-1.37c-.4-.4-.92-.59-1.43-.59-.52 0-1.04.2-1.43.59L10.3 9.45l-7.72 7.72c-.78.78-.78 2.05 0 2.83L4 21.41c.39.39.9.59 1.41.59.51 0 1.02-.2 1.41-.59l7.78-7.78 2.81-2.81c.8-.78.8-2.07 0-2.86zM5.41 20L4 18.59l7.72-7.72 1.47 1.35L5.41 20z\"/>\n",
              "  </svg>\n",
              "      </button>\n",
              "      \n",
              "  <style>\n",
              "    .colab-df-container {\n",
              "      display:flex;\n",
              "      flex-wrap:wrap;\n",
              "      gap: 12px;\n",
              "    }\n",
              "\n",
              "    .colab-df-convert {\n",
              "      background-color: #E8F0FE;\n",
              "      border: none;\n",
              "      border-radius: 50%;\n",
              "      cursor: pointer;\n",
              "      display: none;\n",
              "      fill: #1967D2;\n",
              "      height: 32px;\n",
              "      padding: 0 0 0 0;\n",
              "      width: 32px;\n",
              "    }\n",
              "\n",
              "    .colab-df-convert:hover {\n",
              "      background-color: #E2EBFA;\n",
              "      box-shadow: 0px 1px 2px rgba(60, 64, 67, 0.3), 0px 1px 3px 1px rgba(60, 64, 67, 0.15);\n",
              "      fill: #174EA6;\n",
              "    }\n",
              "\n",
              "    [theme=dark] .colab-df-convert {\n",
              "      background-color: #3B4455;\n",
              "      fill: #D2E3FC;\n",
              "    }\n",
              "\n",
              "    [theme=dark] .colab-df-convert:hover {\n",
              "      background-color: #434B5C;\n",
              "      box-shadow: 0px 1px 3px 1px rgba(0, 0, 0, 0.15);\n",
              "      filter: drop-shadow(0px 1px 2px rgba(0, 0, 0, 0.3));\n",
              "      fill: #FFFFFF;\n",
              "    }\n",
              "  </style>\n",
              "\n",
              "      <script>\n",
              "        const buttonEl =\n",
              "          document.querySelector('#df-7ffd4e00-086d-4c2c-9751-05acea283d61 button.colab-df-convert');\n",
              "        buttonEl.style.display =\n",
              "          google.colab.kernel.accessAllowed ? 'block' : 'none';\n",
              "\n",
              "        async function convertToInteractive(key) {\n",
              "          const element = document.querySelector('#df-7ffd4e00-086d-4c2c-9751-05acea283d61');\n",
              "          const dataTable =\n",
              "            await google.colab.kernel.invokeFunction('convertToInteractive',\n",
              "                                                     [key], {});\n",
              "          if (!dataTable) return;\n",
              "\n",
              "          const docLinkHtml = 'Like what you see? Visit the ' +\n",
              "            '<a target=\"_blank\" href=https://colab.research.google.com/notebooks/data_table.ipynb>data table notebook</a>'\n",
              "            + ' to learn more about interactive tables.';\n",
              "          element.innerHTML = '';\n",
              "          dataTable['output_type'] = 'display_data';\n",
              "          await google.colab.output.renderOutput(dataTable, element);\n",
              "          const docLink = document.createElement('div');\n",
              "          docLink.innerHTML = docLinkHtml;\n",
              "          element.appendChild(docLink);\n",
              "        }\n",
              "      </script>\n",
              "    </div>\n",
              "  </div>\n",
              "  "
            ]
          },
          "metadata": {},
          "execution_count": 428
        }
      ]
    },
    {
      "cell_type": "code",
      "source": [
        "sub_data.head()"
      ],
      "metadata": {
        "colab": {
          "base_uri": "https://localhost:8080/",
          "height": 206
        },
        "id": "EtY5KPs1vZGC",
        "outputId": "7055b1a0-aa25-4ba7-9c8d-9ea276f6fb09"
      },
      "execution_count": null,
      "outputs": [
        {
          "output_type": "execute_result",
          "data": {
            "text/plain": [
              "   Unnamed: 0     name department  \\\n",
              "0           0   범혈구감소증     혈액종양내과   \n",
              "1           1      반점치         치과   \n",
              "2           2  십이지장 용종      소화기내과   \n",
              "3           3    버킷림프종     혈액종양내과   \n",
              "4           4    골수섬유증     혈액종양내과   \n",
              "\n",
              "                                             symptom  \n",
              "0  감소된 혈액세포의 종류와 정도에 따라 아래와 같은 증상이 일어날수 있다 백혈구감소 ...  \n",
              "1  법랑질 저형성증은 부분적으로 또는 광범위하게 나타날 수 있다 저형성의 정도에 따라 ...  \n",
              "2  대개의 십이지장 용종은 그 증상이 없거나 크지 않은 경우가 대부분이지만 심한 소화성...  \n",
              "3  악성 림프종의 흔한 증상은 통증 없이 림프절이 커지는 것이며 전신적으로 발열 야간 ...  \n",
              "4  초기에는 증상이 보이지 않을수도 있다 섬유화가 진행이 되어 혈액세포가 감소하게 되면...  "
            ],
            "text/html": [
              "\n",
              "  <div id=\"df-684753e9-fc1d-40d1-a239-ec6536608cdf\">\n",
              "    <div class=\"colab-df-container\">\n",
              "      <div>\n",
              "<style scoped>\n",
              "    .dataframe tbody tr th:only-of-type {\n",
              "        vertical-align: middle;\n",
              "    }\n",
              "\n",
              "    .dataframe tbody tr th {\n",
              "        vertical-align: top;\n",
              "    }\n",
              "\n",
              "    .dataframe thead th {\n",
              "        text-align: right;\n",
              "    }\n",
              "</style>\n",
              "<table border=\"1\" class=\"dataframe\">\n",
              "  <thead>\n",
              "    <tr style=\"text-align: right;\">\n",
              "      <th></th>\n",
              "      <th>Unnamed: 0</th>\n",
              "      <th>name</th>\n",
              "      <th>department</th>\n",
              "      <th>symptom</th>\n",
              "    </tr>\n",
              "  </thead>\n",
              "  <tbody>\n",
              "    <tr>\n",
              "      <th>0</th>\n",
              "      <td>0</td>\n",
              "      <td>범혈구감소증</td>\n",
              "      <td>혈액종양내과</td>\n",
              "      <td>감소된 혈액세포의 종류와 정도에 따라 아래와 같은 증상이 일어날수 있다 백혈구감소 ...</td>\n",
              "    </tr>\n",
              "    <tr>\n",
              "      <th>1</th>\n",
              "      <td>1</td>\n",
              "      <td>반점치</td>\n",
              "      <td>치과</td>\n",
              "      <td>법랑질 저형성증은 부분적으로 또는 광범위하게 나타날 수 있다 저형성의 정도에 따라 ...</td>\n",
              "    </tr>\n",
              "    <tr>\n",
              "      <th>2</th>\n",
              "      <td>2</td>\n",
              "      <td>십이지장 용종</td>\n",
              "      <td>소화기내과</td>\n",
              "      <td>대개의 십이지장 용종은 그 증상이 없거나 크지 않은 경우가 대부분이지만 심한 소화성...</td>\n",
              "    </tr>\n",
              "    <tr>\n",
              "      <th>3</th>\n",
              "      <td>3</td>\n",
              "      <td>버킷림프종</td>\n",
              "      <td>혈액종양내과</td>\n",
              "      <td>악성 림프종의 흔한 증상은 통증 없이 림프절이 커지는 것이며 전신적으로 발열 야간 ...</td>\n",
              "    </tr>\n",
              "    <tr>\n",
              "      <th>4</th>\n",
              "      <td>4</td>\n",
              "      <td>골수섬유증</td>\n",
              "      <td>혈액종양내과</td>\n",
              "      <td>초기에는 증상이 보이지 않을수도 있다 섬유화가 진행이 되어 혈액세포가 감소하게 되면...</td>\n",
              "    </tr>\n",
              "  </tbody>\n",
              "</table>\n",
              "</div>\n",
              "      <button class=\"colab-df-convert\" onclick=\"convertToInteractive('df-684753e9-fc1d-40d1-a239-ec6536608cdf')\"\n",
              "              title=\"Convert this dataframe to an interactive table.\"\n",
              "              style=\"display:none;\">\n",
              "        \n",
              "  <svg xmlns=\"http://www.w3.org/2000/svg\" height=\"24px\"viewBox=\"0 0 24 24\"\n",
              "       width=\"24px\">\n",
              "    <path d=\"M0 0h24v24H0V0z\" fill=\"none\"/>\n",
              "    <path d=\"M18.56 5.44l.94 2.06.94-2.06 2.06-.94-2.06-.94-.94-2.06-.94 2.06-2.06.94zm-11 1L8.5 8.5l.94-2.06 2.06-.94-2.06-.94L8.5 2.5l-.94 2.06-2.06.94zm10 10l.94 2.06.94-2.06 2.06-.94-2.06-.94-.94-2.06-.94 2.06-2.06.94z\"/><path d=\"M17.41 7.96l-1.37-1.37c-.4-.4-.92-.59-1.43-.59-.52 0-1.04.2-1.43.59L10.3 9.45l-7.72 7.72c-.78.78-.78 2.05 0 2.83L4 21.41c.39.39.9.59 1.41.59.51 0 1.02-.2 1.41-.59l7.78-7.78 2.81-2.81c.8-.78.8-2.07 0-2.86zM5.41 20L4 18.59l7.72-7.72 1.47 1.35L5.41 20z\"/>\n",
              "  </svg>\n",
              "      </button>\n",
              "      \n",
              "  <style>\n",
              "    .colab-df-container {\n",
              "      display:flex;\n",
              "      flex-wrap:wrap;\n",
              "      gap: 12px;\n",
              "    }\n",
              "\n",
              "    .colab-df-convert {\n",
              "      background-color: #E8F0FE;\n",
              "      border: none;\n",
              "      border-radius: 50%;\n",
              "      cursor: pointer;\n",
              "      display: none;\n",
              "      fill: #1967D2;\n",
              "      height: 32px;\n",
              "      padding: 0 0 0 0;\n",
              "      width: 32px;\n",
              "    }\n",
              "\n",
              "    .colab-df-convert:hover {\n",
              "      background-color: #E2EBFA;\n",
              "      box-shadow: 0px 1px 2px rgba(60, 64, 67, 0.3), 0px 1px 3px 1px rgba(60, 64, 67, 0.15);\n",
              "      fill: #174EA6;\n",
              "    }\n",
              "\n",
              "    [theme=dark] .colab-df-convert {\n",
              "      background-color: #3B4455;\n",
              "      fill: #D2E3FC;\n",
              "    }\n",
              "\n",
              "    [theme=dark] .colab-df-convert:hover {\n",
              "      background-color: #434B5C;\n",
              "      box-shadow: 0px 1px 3px 1px rgba(0, 0, 0, 0.15);\n",
              "      filter: drop-shadow(0px 1px 2px rgba(0, 0, 0, 0.3));\n",
              "      fill: #FFFFFF;\n",
              "    }\n",
              "  </style>\n",
              "\n",
              "      <script>\n",
              "        const buttonEl =\n",
              "          document.querySelector('#df-684753e9-fc1d-40d1-a239-ec6536608cdf button.colab-df-convert');\n",
              "        buttonEl.style.display =\n",
              "          google.colab.kernel.accessAllowed ? 'block' : 'none';\n",
              "\n",
              "        async function convertToInteractive(key) {\n",
              "          const element = document.querySelector('#df-684753e9-fc1d-40d1-a239-ec6536608cdf');\n",
              "          const dataTable =\n",
              "            await google.colab.kernel.invokeFunction('convertToInteractive',\n",
              "                                                     [key], {});\n",
              "          if (!dataTable) return;\n",
              "\n",
              "          const docLinkHtml = 'Like what you see? Visit the ' +\n",
              "            '<a target=\"_blank\" href=https://colab.research.google.com/notebooks/data_table.ipynb>data table notebook</a>'\n",
              "            + ' to learn more about interactive tables.';\n",
              "          element.innerHTML = '';\n",
              "          dataTable['output_type'] = 'display_data';\n",
              "          await google.colab.output.renderOutput(dataTable, element);\n",
              "          const docLink = document.createElement('div');\n",
              "          docLink.innerHTML = docLinkHtml;\n",
              "          element.appendChild(docLink);\n",
              "        }\n",
              "      </script>\n",
              "    </div>\n",
              "  </div>\n",
              "  "
            ]
          },
          "metadata": {},
          "execution_count": 430
        }
      ]
    },
    {
      "cell_type": "markdown",
      "source": [
        "# Word2Vec Test"
      ],
      "metadata": {
        "id": "522YzjkzvjVa"
      }
    },
    {
      "cell_type": "code",
      "source": [
        "from gensim.models.word2vec import Word2Vec"
      ],
      "metadata": {
        "id": "tNxCXRnJz1t2"
      },
      "execution_count": null,
      "outputs": []
    },
    {
      "cell_type": "code",
      "source": [
        "train_data = data_result.groupby('department_single').sum()"
      ],
      "metadata": {
        "id": "kE1aBetFAsIm"
      },
      "execution_count": null,
      "outputs": []
    },
    {
      "cell_type": "code",
      "source": [
        "train_data"
      ],
      "metadata": {
        "colab": {
          "base_uri": "https://localhost:8080/",
          "height": 1000
        },
        "id": "7_Q4y6RPLgiI",
        "outputId": "ce9189a0-6218-49b6-deb4-9e090d395c3b"
      },
      "execution_count": null,
      "outputs": [
        {
          "output_type": "execute_result",
          "data": {
            "text/plain": [
              "                                                             symptom\n",
              "department_single                                                   \n",
              "가정의학과              담관에 있는 성충이 물리적 화학적 자극을 가하여 이상 증상이 나타난다 증상으로는 배...\n",
              "감염내과               담관에 있는 성충이 물리적 화학적 자극을 가하여 이상 증상이 나타난다 증상으로는 배...\n",
              "내과                 수족냉증의 증상은 추운 곳에 있을 때뿐만 아니라 따뜻한 곳에서도 손발이 시리듯 차다...\n",
              "내분비내과              호르몬 분비 없이 세포 덩어리만을 형성하는 비기능성 종양은 주로 종괴 효과로 인하여...\n",
              "류마티스내과             경피증은 만성 다기관 질환으로 초기 증상은 대개 비특이적이며 레이노 현상  추위나 ...\n",
              "마취통증의학과            활동성 근막유발점통증 유발점은 골격근에 존재하는 과민감성 부위이며 극심한 압통을 나...\n",
              "방사선종양학과            방광암의 가장 주된 증상은 통증 없이 소변에 피가 섞여 나오는 것이다 혈뇨의 정도는...\n",
              "병리과                제자리암은 대부분 특별한 증상이 없이 우연히 발견되는 경우가 많다 자궁경부의 제자리...\n",
              "비뇨기과               기 매독의 주요 증상은 통증이 없는 피부궤양이다 대부분의 경우 한 개의 궤양만 관찰...\n",
              "산부인과               일차성 월경통은 치골 부위 위쪽에서 월경이 나타나기 수시간 전 혹은 직전에 시작되어...\n",
              "성형외과               흑색종은 자각 증상이 없으며 평범한 점이나 결절 이상 크기의 솟아오른 피부병변로 보...\n",
              "소아청소년과             감기 바이러스에 노출된 지 일 후에 증상이 나타난다 증상은 감기 바이러스가 상부 호...\n",
              "소화기내과              담관에 있는 성충이 물리적 화학적 자극을 가하여 이상 증상이 나타난다 증상으로는 배...\n",
              "순환기내과              버거씨병은 사지말단과 피부 말초신경 등에 증상을 보인다 사지 말단 초기에는 비특이적...\n",
              "신경과                광견병 바이러스에 노출된 후 증상이 나타나는 데 걸리는 시간은 여러 가지 요인에 영...\n",
              "신경외과               척수증은 그 원인 및 병리적 변화의 위치 그리고 침범된 계통의 종류에 따라 매우 다...\n",
              "신장내과               잠복기는 일 정도로 평균 약 주 정도이다 급성으로 발열 출혈경향 요통 신부전이 발생...\n",
              "신종플루거점병원           신종 인플루엔자는 계절 인플루엔자와 비슷한 임상 증상을 보인다 전형적인 증상은 갑작...\n",
              "안과                 증상은 여러 기관의 궤양과 피부 및 안구에 대한 증상 관절염 기타 장기의 침범 등과...\n",
              "알레르기내과             피부가 부어 오르면서 소양증가려움증을 동반하고 피부의 병리적 증상이 시간 후 사라졌...\n",
              "외과                 버거씨병은 사지말단과 피부 말초신경 등에 증상을 보인다 사지 말단 초기에는 비특이적...\n",
              "응급의학과              중추신경계 억제 작용으로 인해 기면 혼수 등 다양한 의식 저하를 보인다 드물게 호흡...\n",
              "이비인후과              감기 바이러스에 노출된 지 일 후에 증상이 나타난다 증상은 감기 바이러스가 상부 호...\n",
              "이식혈관외과             대부분 별증상이 없고 복부에서 박동을 하는 혹이나 덩어리종괴가 만져지는 경우가 많다...\n",
              "재활의학과              척수증은 그 원인 및 병리적 변화의 위치 그리고 침범된 계통의 종류에 따라 매우 다...\n",
              "정신건강의학과            긴장성두통은 흔히 두피두개골 밖에 분포하는 근육이 지속적으로 수축하면서 발생한다 긴...\n",
              "정형외과               감염증에 따른 증상은 서서히 진행되는 경향이 있다 척추 자체나 주변 조직의 염증 및...\n",
              "진단검사의학과            증상은 창백 발한 탈력감 현기증 오심 등이며 드물게 저혈압 구토 졸도 발작 등이 나...\n",
              "치과                 구강점막 질환에 걸린 경우 입 안이 따갑거나 화끈거리는 느낌이 들고 음식을 먹을 때...\n",
              "피부과                잠복기간은 개월년으로 다양하다 한센병은 피부에 나타나는 병적인 변화의 종류에 따라 ...\n",
              "핵의학과               대부분의 갑상선암은 뚜렷한 임상증상이 없으며 통증 없이 만져지는 경부 종괴혹 결절로...\n",
              "혈액종양내과             임파선염의 증상으로는 임파선이 비대해져서 종괴덩어리가 만져지거나 감염증에 의한 임파...\n",
              "호흡기내과              감기 바이러스에 노출된 지 일 후에 증상이 나타난다 증상은 감기 바이러스가 상부 호...\n",
              "흉부외과               버거씨병은 사지말단과 피부 말초신경 등에 증상을 보인다 사지 말단 초기에는 비특이적..."
            ],
            "text/html": [
              "\n",
              "  <div id=\"df-1b1eadc5-e6d9-4531-a666-7fa6beb306fb\">\n",
              "    <div class=\"colab-df-container\">\n",
              "      <div>\n",
              "<style scoped>\n",
              "    .dataframe tbody tr th:only-of-type {\n",
              "        vertical-align: middle;\n",
              "    }\n",
              "\n",
              "    .dataframe tbody tr th {\n",
              "        vertical-align: top;\n",
              "    }\n",
              "\n",
              "    .dataframe thead th {\n",
              "        text-align: right;\n",
              "    }\n",
              "</style>\n",
              "<table border=\"1\" class=\"dataframe\">\n",
              "  <thead>\n",
              "    <tr style=\"text-align: right;\">\n",
              "      <th></th>\n",
              "      <th>symptom</th>\n",
              "    </tr>\n",
              "    <tr>\n",
              "      <th>department_single</th>\n",
              "      <th></th>\n",
              "    </tr>\n",
              "  </thead>\n",
              "  <tbody>\n",
              "    <tr>\n",
              "      <th>가정의학과</th>\n",
              "      <td>담관에 있는 성충이 물리적 화학적 자극을 가하여 이상 증상이 나타난다 증상으로는 배...</td>\n",
              "    </tr>\n",
              "    <tr>\n",
              "      <th>감염내과</th>\n",
              "      <td>담관에 있는 성충이 물리적 화학적 자극을 가하여 이상 증상이 나타난다 증상으로는 배...</td>\n",
              "    </tr>\n",
              "    <tr>\n",
              "      <th>내과</th>\n",
              "      <td>수족냉증의 증상은 추운 곳에 있을 때뿐만 아니라 따뜻한 곳에서도 손발이 시리듯 차다...</td>\n",
              "    </tr>\n",
              "    <tr>\n",
              "      <th>내분비내과</th>\n",
              "      <td>호르몬 분비 없이 세포 덩어리만을 형성하는 비기능성 종양은 주로 종괴 효과로 인하여...</td>\n",
              "    </tr>\n",
              "    <tr>\n",
              "      <th>류마티스내과</th>\n",
              "      <td>경피증은 만성 다기관 질환으로 초기 증상은 대개 비특이적이며 레이노 현상  추위나 ...</td>\n",
              "    </tr>\n",
              "    <tr>\n",
              "      <th>마취통증의학과</th>\n",
              "      <td>활동성 근막유발점통증 유발점은 골격근에 존재하는 과민감성 부위이며 극심한 압통을 나...</td>\n",
              "    </tr>\n",
              "    <tr>\n",
              "      <th>방사선종양학과</th>\n",
              "      <td>방광암의 가장 주된 증상은 통증 없이 소변에 피가 섞여 나오는 것이다 혈뇨의 정도는...</td>\n",
              "    </tr>\n",
              "    <tr>\n",
              "      <th>병리과</th>\n",
              "      <td>제자리암은 대부분 특별한 증상이 없이 우연히 발견되는 경우가 많다 자궁경부의 제자리...</td>\n",
              "    </tr>\n",
              "    <tr>\n",
              "      <th>비뇨기과</th>\n",
              "      <td>기 매독의 주요 증상은 통증이 없는 피부궤양이다 대부분의 경우 한 개의 궤양만 관찰...</td>\n",
              "    </tr>\n",
              "    <tr>\n",
              "      <th>산부인과</th>\n",
              "      <td>일차성 월경통은 치골 부위 위쪽에서 월경이 나타나기 수시간 전 혹은 직전에 시작되어...</td>\n",
              "    </tr>\n",
              "    <tr>\n",
              "      <th>성형외과</th>\n",
              "      <td>흑색종은 자각 증상이 없으며 평범한 점이나 결절 이상 크기의 솟아오른 피부병변로 보...</td>\n",
              "    </tr>\n",
              "    <tr>\n",
              "      <th>소아청소년과</th>\n",
              "      <td>감기 바이러스에 노출된 지 일 후에 증상이 나타난다 증상은 감기 바이러스가 상부 호...</td>\n",
              "    </tr>\n",
              "    <tr>\n",
              "      <th>소화기내과</th>\n",
              "      <td>담관에 있는 성충이 물리적 화학적 자극을 가하여 이상 증상이 나타난다 증상으로는 배...</td>\n",
              "    </tr>\n",
              "    <tr>\n",
              "      <th>순환기내과</th>\n",
              "      <td>버거씨병은 사지말단과 피부 말초신경 등에 증상을 보인다 사지 말단 초기에는 비특이적...</td>\n",
              "    </tr>\n",
              "    <tr>\n",
              "      <th>신경과</th>\n",
              "      <td>광견병 바이러스에 노출된 후 증상이 나타나는 데 걸리는 시간은 여러 가지 요인에 영...</td>\n",
              "    </tr>\n",
              "    <tr>\n",
              "      <th>신경외과</th>\n",
              "      <td>척수증은 그 원인 및 병리적 변화의 위치 그리고 침범된 계통의 종류에 따라 매우 다...</td>\n",
              "    </tr>\n",
              "    <tr>\n",
              "      <th>신장내과</th>\n",
              "      <td>잠복기는 일 정도로 평균 약 주 정도이다 급성으로 발열 출혈경향 요통 신부전이 발생...</td>\n",
              "    </tr>\n",
              "    <tr>\n",
              "      <th>신종플루거점병원</th>\n",
              "      <td>신종 인플루엔자는 계절 인플루엔자와 비슷한 임상 증상을 보인다 전형적인 증상은 갑작...</td>\n",
              "    </tr>\n",
              "    <tr>\n",
              "      <th>안과</th>\n",
              "      <td>증상은 여러 기관의 궤양과 피부 및 안구에 대한 증상 관절염 기타 장기의 침범 등과...</td>\n",
              "    </tr>\n",
              "    <tr>\n",
              "      <th>알레르기내과</th>\n",
              "      <td>피부가 부어 오르면서 소양증가려움증을 동반하고 피부의 병리적 증상이 시간 후 사라졌...</td>\n",
              "    </tr>\n",
              "    <tr>\n",
              "      <th>외과</th>\n",
              "      <td>버거씨병은 사지말단과 피부 말초신경 등에 증상을 보인다 사지 말단 초기에는 비특이적...</td>\n",
              "    </tr>\n",
              "    <tr>\n",
              "      <th>응급의학과</th>\n",
              "      <td>중추신경계 억제 작용으로 인해 기면 혼수 등 다양한 의식 저하를 보인다 드물게 호흡...</td>\n",
              "    </tr>\n",
              "    <tr>\n",
              "      <th>이비인후과</th>\n",
              "      <td>감기 바이러스에 노출된 지 일 후에 증상이 나타난다 증상은 감기 바이러스가 상부 호...</td>\n",
              "    </tr>\n",
              "    <tr>\n",
              "      <th>이식혈관외과</th>\n",
              "      <td>대부분 별증상이 없고 복부에서 박동을 하는 혹이나 덩어리종괴가 만져지는 경우가 많다...</td>\n",
              "    </tr>\n",
              "    <tr>\n",
              "      <th>재활의학과</th>\n",
              "      <td>척수증은 그 원인 및 병리적 변화의 위치 그리고 침범된 계통의 종류에 따라 매우 다...</td>\n",
              "    </tr>\n",
              "    <tr>\n",
              "      <th>정신건강의학과</th>\n",
              "      <td>긴장성두통은 흔히 두피두개골 밖에 분포하는 근육이 지속적으로 수축하면서 발생한다 긴...</td>\n",
              "    </tr>\n",
              "    <tr>\n",
              "      <th>정형외과</th>\n",
              "      <td>감염증에 따른 증상은 서서히 진행되는 경향이 있다 척추 자체나 주변 조직의 염증 및...</td>\n",
              "    </tr>\n",
              "    <tr>\n",
              "      <th>진단검사의학과</th>\n",
              "      <td>증상은 창백 발한 탈력감 현기증 오심 등이며 드물게 저혈압 구토 졸도 발작 등이 나...</td>\n",
              "    </tr>\n",
              "    <tr>\n",
              "      <th>치과</th>\n",
              "      <td>구강점막 질환에 걸린 경우 입 안이 따갑거나 화끈거리는 느낌이 들고 음식을 먹을 때...</td>\n",
              "    </tr>\n",
              "    <tr>\n",
              "      <th>피부과</th>\n",
              "      <td>잠복기간은 개월년으로 다양하다 한센병은 피부에 나타나는 병적인 변화의 종류에 따라 ...</td>\n",
              "    </tr>\n",
              "    <tr>\n",
              "      <th>핵의학과</th>\n",
              "      <td>대부분의 갑상선암은 뚜렷한 임상증상이 없으며 통증 없이 만져지는 경부 종괴혹 결절로...</td>\n",
              "    </tr>\n",
              "    <tr>\n",
              "      <th>혈액종양내과</th>\n",
              "      <td>임파선염의 증상으로는 임파선이 비대해져서 종괴덩어리가 만져지거나 감염증에 의한 임파...</td>\n",
              "    </tr>\n",
              "    <tr>\n",
              "      <th>호흡기내과</th>\n",
              "      <td>감기 바이러스에 노출된 지 일 후에 증상이 나타난다 증상은 감기 바이러스가 상부 호...</td>\n",
              "    </tr>\n",
              "    <tr>\n",
              "      <th>흉부외과</th>\n",
              "      <td>버거씨병은 사지말단과 피부 말초신경 등에 증상을 보인다 사지 말단 초기에는 비특이적...</td>\n",
              "    </tr>\n",
              "  </tbody>\n",
              "</table>\n",
              "</div>\n",
              "      <button class=\"colab-df-convert\" onclick=\"convertToInteractive('df-1b1eadc5-e6d9-4531-a666-7fa6beb306fb')\"\n",
              "              title=\"Convert this dataframe to an interactive table.\"\n",
              "              style=\"display:none;\">\n",
              "        \n",
              "  <svg xmlns=\"http://www.w3.org/2000/svg\" height=\"24px\"viewBox=\"0 0 24 24\"\n",
              "       width=\"24px\">\n",
              "    <path d=\"M0 0h24v24H0V0z\" fill=\"none\"/>\n",
              "    <path d=\"M18.56 5.44l.94 2.06.94-2.06 2.06-.94-2.06-.94-.94-2.06-.94 2.06-2.06.94zm-11 1L8.5 8.5l.94-2.06 2.06-.94-2.06-.94L8.5 2.5l-.94 2.06-2.06.94zm10 10l.94 2.06.94-2.06 2.06-.94-2.06-.94-.94-2.06-.94 2.06-2.06.94z\"/><path d=\"M17.41 7.96l-1.37-1.37c-.4-.4-.92-.59-1.43-.59-.52 0-1.04.2-1.43.59L10.3 9.45l-7.72 7.72c-.78.78-.78 2.05 0 2.83L4 21.41c.39.39.9.59 1.41.59.51 0 1.02-.2 1.41-.59l7.78-7.78 2.81-2.81c.8-.78.8-2.07 0-2.86zM5.41 20L4 18.59l7.72-7.72 1.47 1.35L5.41 20z\"/>\n",
              "  </svg>\n",
              "      </button>\n",
              "      \n",
              "  <style>\n",
              "    .colab-df-container {\n",
              "      display:flex;\n",
              "      flex-wrap:wrap;\n",
              "      gap: 12px;\n",
              "    }\n",
              "\n",
              "    .colab-df-convert {\n",
              "      background-color: #E8F0FE;\n",
              "      border: none;\n",
              "      border-radius: 50%;\n",
              "      cursor: pointer;\n",
              "      display: none;\n",
              "      fill: #1967D2;\n",
              "      height: 32px;\n",
              "      padding: 0 0 0 0;\n",
              "      width: 32px;\n",
              "    }\n",
              "\n",
              "    .colab-df-convert:hover {\n",
              "      background-color: #E2EBFA;\n",
              "      box-shadow: 0px 1px 2px rgba(60, 64, 67, 0.3), 0px 1px 3px 1px rgba(60, 64, 67, 0.15);\n",
              "      fill: #174EA6;\n",
              "    }\n",
              "\n",
              "    [theme=dark] .colab-df-convert {\n",
              "      background-color: #3B4455;\n",
              "      fill: #D2E3FC;\n",
              "    }\n",
              "\n",
              "    [theme=dark] .colab-df-convert:hover {\n",
              "      background-color: #434B5C;\n",
              "      box-shadow: 0px 1px 3px 1px rgba(0, 0, 0, 0.15);\n",
              "      filter: drop-shadow(0px 1px 2px rgba(0, 0, 0, 0.3));\n",
              "      fill: #FFFFFF;\n",
              "    }\n",
              "  </style>\n",
              "\n",
              "      <script>\n",
              "        const buttonEl =\n",
              "          document.querySelector('#df-1b1eadc5-e6d9-4531-a666-7fa6beb306fb button.colab-df-convert');\n",
              "        buttonEl.style.display =\n",
              "          google.colab.kernel.accessAllowed ? 'block' : 'none';\n",
              "\n",
              "        async function convertToInteractive(key) {\n",
              "          const element = document.querySelector('#df-1b1eadc5-e6d9-4531-a666-7fa6beb306fb');\n",
              "          const dataTable =\n",
              "            await google.colab.kernel.invokeFunction('convertToInteractive',\n",
              "                                                     [key], {});\n",
              "          if (!dataTable) return;\n",
              "\n",
              "          const docLinkHtml = 'Like what you see? Visit the ' +\n",
              "            '<a target=\"_blank\" href=https://colab.research.google.com/notebooks/data_table.ipynb>data table notebook</a>'\n",
              "            + ' to learn more about interactive tables.';\n",
              "          element.innerHTML = '';\n",
              "          dataTable['output_type'] = 'display_data';\n",
              "          await google.colab.output.renderOutput(dataTable, element);\n",
              "          const docLink = document.createElement('div');\n",
              "          docLink.innerHTML = docLinkHtml;\n",
              "          element.appendChild(docLink);\n",
              "        }\n",
              "      </script>\n",
              "    </div>\n",
              "  </div>\n",
              "  "
            ]
          },
          "metadata": {},
          "execution_count": 438
        }
      ]
    },
    {
      "cell_type": "code",
      "source": [
        "okt = Okt()\n",
        "hannanum = Hannanum() \n",
        "stopwords = ['의', '가', '이', '은', '들', '는', '좀', '잘', '걍', '과', '도', '를', '으로', '자', '에', '와', '한', '하다', '이다', ',', '\"', \"'\", ';', '.', '/', '(', ')', '[', ']', '-', '_', '=', '증상', '있다', '경우', '나타', '한다', '발생', '등의', '등이', '따라', '있는', '된다', '가장', '주로', '심한', '동반', '또는', '이상', '환자', '같은', '것이', '의해', '다른', '대부분', '있으며', '의한', '정도', '부위', '대개', '흔히', '매우', '또한', '진행', '인한', '인해', '많다',' 않는', '보이', '이러한', '흔한', '때문에', '있고', '함께', '초기', '보인다', '혹은', '많이', '지속', '없는', '다양한', '보통', '원인', '특징', '특히', '대한', '여러', '하며', '그러나', '없이', '드물게', '이를', '서서히', '일부', '등을', '하고', '시작', '하지', '흔하', '하는', '것으로', '이는', '있을', '후에', '않고', '비교적', '되면', '가지', '되고', '쉽게', '사람', '일어', '일반', '등으로', '못하', '없다', '비해', '따른', '이후', '일으', '있어', '자주', '것을', '많은', '에서', '것은', '내에', '위치', '외에', '않은', '그리고', '더러', '간혹', '당황', '또', '또한', '더해', '더는', '더이상', '그리고', '느끼', '알려져', '동안', '되며', '듯한', '걸쳐', '달리', '어느', '있지만', '통해', '어려', '어지', '이런', '이로', '때는', '우연히', '아니라', '이내에', '전형적인', '되어', '들어', '않으면', '보일', '계속', '처음', '필요', '다르게', '않아', '때로는', '빠르게', '말한다', '어떤', '중에', '위해', '인하여', '종종', '문제가', '크게', '떨어', '지나', '인지', '많으며', '대표적인', '이와', '경향이', '변하', '있거나', '먼저', '높은', '이외에도', '다음', '급격히', '기타', '시에', '있습니다', '주어', '편이다', '단순', '전에', '자율', '증세가', '의하여', '비특이적', '아무런', '쪽으로', '과도한', '병원을', '비슷한', '이에', '등과', '반드시']"
      ],
      "metadata": {
        "id": "5mvMPVrjvtV9"
      },
      "execution_count": null,
      "outputs": []
    },
    {
      "cell_type": "code",
      "source": [
        "token_data = data_result.drop_duplicates(['symptom'])\n",
        "tokenized_data = []\n",
        "for sentence in tqdm(token_data['symptom']):\n",
        "    tmp = []\n",
        "    tmp  = okt.morphs(sentence, stem=True) # 토큰화\n",
        "    tmp  = [word for word in tmp if not word in stopwords] # 불용어 제거\n",
        "    tmp  = [word  if word != '귀가' else '귀' for word in tmp]\n",
        "    tokenized_data.append(tmp)"
      ],
      "metadata": {
        "colab": {
          "base_uri": "https://localhost:8080/"
        },
        "id": "ao-YTLgnzm_3",
        "outputId": "b80409d0-b16c-4e95-8845-1965f10df613"
      },
      "execution_count": null,
      "outputs": [
        {
          "output_type": "stream",
          "name": "stderr",
          "text": [
            "100%|██████████| 1808/1808 [01:34<00:00, 19.07it/s]\n"
          ]
        }
      ]
    },
    {
      "cell_type": "code",
      "source": [
        "model = Word2Vec(sentences = tokenized_data, size = 100, window = 20, min_count = 1, workers = 5, sg = 1)"
      ],
      "metadata": {
        "id": "lA7NYzzA1SZQ"
      },
      "execution_count": null,
      "outputs": []
    },
    {
      "cell_type": "code",
      "source": [
        "def data_tokenizer(sentence):\n",
        "  tmp = []\n",
        "  tokenized = okt.morphs(sentence, stem=True) # 토큰화\n",
        "  stopwords_removed = [word for word in tokenized if not word in stopwords] # 불용어 제거\n",
        "  changed = [word if word != '귀가' else '귀' for word in stopwords_removed]\n",
        "  tmp.append(changed)\n",
        "  return tmp"
      ],
      "metadata": {
        "id": "X63wR_alZx3O"
      },
      "execution_count": null,
      "outputs": []
    },
    {
      "cell_type": "code",
      "source": [
        "train_data['symptom'] = train_data['symptom'].apply(lambda x: data_tokenizer(x)[0])"
      ],
      "metadata": {
        "id": "y8OXDDrKaMqL"
      },
      "execution_count": null,
      "outputs": []
    },
    {
      "cell_type": "code",
      "source": [
        "train_data"
      ],
      "metadata": {
        "id": "YtcXb8hOJ-Mb"
      },
      "execution_count": null,
      "outputs": []
    },
    {
      "cell_type": "code",
      "source": [
        "# train_data['symptom'] = train_data['symptom'].apply(lambda x: list(set(x)))"
      ],
      "metadata": {
        "id": "yfyFXKiky9Cb"
      },
      "execution_count": null,
      "outputs": []
    },
    {
      "cell_type": "code",
      "source": [
        "import operator"
      ],
      "metadata": {
        "id": "Hdc3c4LiK7G4"
      },
      "execution_count": null,
      "outputs": []
    },
    {
      "cell_type": "code",
      "source": [
        "def test_predict(sentence):\n",
        "  word_list = data_tokenizer(sentence)\n",
        "  tmp = []\n",
        "  result = {}\n",
        "  for word in word_list[0]:\n",
        "    tmp.append(word)\n",
        "    try:\n",
        "        tmp = tmp + [i for i, v in model.wv.most_similar(word)[:]]\n",
        "    except:\n",
        "        continue\n",
        "  print(tmp)\n",
        "  for i in train_data.index:\n",
        "    result[i] = len(set(train_data['symptom'][i]).intersection(set(tmp)))\n",
        "  return list(dict(sorted(result.items(), key=operator.itemgetter(1), reverse=True)).keys())\n"
      ],
      "metadata": {
        "id": "AJsBpz4efPDi"
      },
      "execution_count": null,
      "outputs": []
    },
    {
      "cell_type": "code",
      "source": [
        "model = Word2Vec(sentences = tokenized_data, size = 100, window = 20, min_count = 0, workers = 10, sg = 1)\n",
        "model.wv.most_similar('귀')"
      ],
      "metadata": {
        "colab": {
          "base_uri": "https://localhost:8080/"
        },
        "id": "ZXV0_BFXwCez",
        "outputId": "f81ae96f-3509-48f4-c698-87683a5bf48c"
      },
      "execution_count": null,
      "outputs": [
        {
          "output_type": "stream",
          "name": "stderr",
          "text": [
            "WARNING:gensim.models.base_any2vec:under 10 jobs per worker: consider setting a smaller `batch_words' for smoother alpha decay\n"
          ]
        },
        {
          "output_type": "execute_result",
          "data": {
            "text/plain": [
              "[('귀의', 0.810023307800293),\n",
              " ('턱밑', 0.7846348881721497),\n",
              " ('하선', 0.7708806991577148),\n",
              " ('이충만', 0.7683533430099487),\n",
              " ('밑샘', 0.7607894539833069),\n",
              " ('이통', 0.7579001784324646),\n",
              " ('외다', 0.7569637298583984),\n",
              " ('이명', 0.7537832260131836),\n",
              " ('귓불', 0.7501367926597595),\n",
              " ('샘', 0.7423829436302185)]"
            ]
          },
          "metadata": {},
          "execution_count": 472
        }
      ]
    },
    {
      "cell_type": "code",
      "source": [
        "print(test_predict('두통이 심하고 어지러움'))"
      ],
      "metadata": {
        "colab": {
          "base_uri": "https://localhost:8080/"
        },
        "id": "31r538mZjAyD",
        "outputId": "62c8a8d3-0c06-46fe-9164-5bb620868072"
      },
      "execution_count": null,
      "outputs": [
        {
          "output_type": "stream",
          "name": "stdout",
          "text": [
            "['두통', '메', '졸림', '슥', '구역질', '구역', '귀울림', '요하', '에서보다', '구근', '보다도', '심하다', '회복하다', '신체검사', '요하', '신속하다', '수주로', '오기', '역', '구근', '패혈', '늑', '어지러움', '교감', '공복', '고산병', '심박', '고산', '사하다', '식다', '심정지', '심박수', '기색']\n",
            "['가정의학과', '감염내과', '방사선종양학과', '소화기내과', '순환기내과', '신장내과', '혈액종양내과', '내과', '소아청소년과', '신경과', '신경외과', '응급의학과', '정신건강의학과', '호흡기내과', '흉부외과', '내분비내과', '류마티스내과', '마취통증의학과', '산부인과', '안과', '알레르기내과', '외과', '이비인후과', '재활의학과', '정형외과', '피부과', '병리과', '비뇨기과', '성형외과', '이식혈관외과', '진단검사의학과', '치과', '신종플루거점병원', '핵의학과']\n"
          ]
        }
      ]
    },
    {
      "cell_type": "code",
      "source": [
        "model.save('/content/drive/MyDrive/PretrainModels/kor_w2v_final')"
      ],
      "metadata": {
        "id": "mLNM2aa-8E7w"
      },
      "execution_count": null,
      "outputs": []
    },
    {
      "cell_type": "code",
      "source": [
        "train_data.to_csv('/content/drive/MyDrive/PretrainModels/w2v_query_data_final.csv')"
      ],
      "metadata": {
        "id": "T9nQ5-yrP6AG"
      },
      "execution_count": null,
      "outputs": []
    },
    {
      "cell_type": "code",
      "source": [
        "wordrank_extractor = KRWordRank(min_count=2, max_length=20, verbose=True)\n",
        "beta = 0.9    # PageRank의 decaying factor beta\n",
        "max_iter = 100\n",
        "keywords, rank, graph = wordrank_extractor.extract(data_result['symptom'], beta, max_iter)\n",
        "for word, r in sorted(keywords.items(), key=lambda x:x[1], reverse=True)[:500]:\n",
        "  print('%8s:\\t%.4f' % (word, r))"
      ],
      "metadata": {
        "id": "7PpYo5Ohemz9"
      },
      "execution_count": null,
      "outputs": []
    },
    {
      "cell_type": "markdown",
      "source": [
        "# Test Loading model, data"
      ],
      "metadata": {
        "id": "kpMrEshG9aJZ"
      }
    },
    {
      "cell_type": "code",
      "source": [
        "def tokenizer(sentence):\n",
        "  tmp = []\n",
        "  tokenized = okt.morphs(sentence, stem=True) # 토큰화\n",
        "  stopwords_removed = [word for word in tokenized if not word in stopwords] # 불용어 제거\n",
        "  changed = [word if word != '귀가' else '귀' for word in stopwords_removed]\n",
        "  tmp.append(changed)\n",
        "  return tmp"
      ],
      "metadata": {
        "id": "YToqtBiw9fuh"
      },
      "execution_count": null,
      "outputs": []
    },
    {
      "cell_type": "code",
      "source": [
        "query_data = pd.read_csv('/content/drive/MyDrive/PretrainModels/w2v_query_data_final.csv')"
      ],
      "metadata": {
        "id": "PUtyaeAR9so4"
      },
      "execution_count": null,
      "outputs": []
    },
    {
      "cell_type": "code",
      "source": [
        "query_data = query_data.set_index('department_single')"
      ],
      "metadata": {
        "id": "gdyB30fW9yyc"
      },
      "execution_count": null,
      "outputs": []
    },
    {
      "cell_type": "code",
      "source": [
        "w2v_model = gensim.models.Word2Vec.load('/content/drive/MyDrive/PretrainModels/kor_w2v_final')"
      ],
      "metadata": {
        "id": "bfwgvfym9y2v"
      },
      "execution_count": null,
      "outputs": []
    },
    {
      "cell_type": "code",
      "source": [
        "def test_predict(sentence):\n",
        "  word_list = data_tokenizer(sentence)\n",
        "  tmp = []\n",
        "  result = {}\n",
        "  for word in word_list[0]:\n",
        "    tmp.append(word)\n",
        "    try:\n",
        "        tmp = tmp + [i for i, v in w2v_model.wv.most_similar(word)[:]]\n",
        "    except:\n",
        "        continue\n",
        "  print(tmp)\n",
        "  for i in train_data.index:\n",
        "    result[i] = len(set(query_data['symptom'][i]).intersection(set(tmp)))\n",
        "  return dict(sorted(result.items(), key=operator.itemgetter(1), reverse=True))"
      ],
      "metadata": {
        "id": "kqkf3qyV-6FW"
      },
      "execution_count": null,
      "outputs": []
    },
    {
      "cell_type": "code",
      "source": [
        "print(test_predict('뒷골이 땡긴다'))"
      ],
      "metadata": {
        "colab": {
          "base_uri": "https://localhost:8080/"
        },
        "id": "KcYJf0Qh--6k",
        "outputId": "4571ca00-fbdb-4e0c-97ac-0b1904211323"
      },
      "execution_count": null,
      "outputs": [
        {
          "output_type": "stream",
          "name": "stdout",
          "text": [
            "['뒷', '흥분하다', '베개', '사경이', '망치', '베다', '쏘다', '결리다', '딱하다', '짓누르다', '휘청거리다', '골', '중족골', '삼지', '과지', '종축', '무지', '합', '중위', '거대하다', '삼각', '단축', '땡기다']\n",
            "{'가정의학과': 3, '내분비내과': 3, '마취통증의학과': 3, '소아청소년과': 3, '소화기내과': 3, '순환기내과': 3, '신경과': 3, '신경외과': 3, '외과': 3, '이비인후과': 3, '재활의학과': 3, '정형외과': 3, '감염내과': 2, '내과': 2, '류마티스내과': 2, '방사선종양학과': 2, '산부인과': 2, '성형외과': 2, '신장내과': 2, '안과': 2, '응급의학과': 2, '정신건강의학과': 2, '치과': 2, '피부과': 2, '혈액종양내과': 2, '호흡기내과': 2, '흉부외과': 2, '비뇨기과': 1, '알레르기내과': 1, '이식혈관외과': 1, '진단검사의학과': 1, '병리과': 0, '신종플루거점병원': 0, '핵의학과': 0}\n"
          ]
        }
      ]
    }
  ]
}